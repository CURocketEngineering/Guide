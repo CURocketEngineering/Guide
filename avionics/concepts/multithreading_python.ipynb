{
 "cells": [
  {
   "cell_type": "markdown",
   "metadata": {},
   "source": [
    "# Multithreading\n",
    "Traditional python threads are implemented on a single core, making multithreading for performance obsolete. This can be fixed by instead using `multiprocessing`. \n"
   ]
  },
  {
   "cell_type": "code",
   "execution_count": 2,
   "metadata": {},
   "outputs": [],
   "source": [
    "# Imports\n",
    "from multiprocessing import Process\n",
    "import threading\n",
    "import sys"
   ]
  },
  {
   "cell_type": "code",
   "execution_count": 6,
   "metadata": {},
   "outputs": [],
   "source": [
    "## Class to try it on\n",
    "class DecisionMachine:\n",
    "    def __init__(self):\n",
    "        self.should_exit = False\n",
    "        self.value = 0\n",
    "        self.total_counts = 0\n",
    "    \n",
    "    def increment(self):\n",
    "        print(\"Incrementing\")\n",
    "        while True:\n",
    "            if self.should_exit:\n",
    "                print(\"Exiting incrementer\")\n",
    "                sys.exit()\n",
    "            self.value += 1\n",
    "            if self.value >= 1000000:\n",
    "                print(\"Reseting\")\n",
    "                self.total_counts += 1\n",
    "                self.value = 0\n",
    "    \n",
    "    def is_it_over(self):\n",
    "        print(\"Evaluating overness\")\n",
    "        last_total = -1\n",
    "        while True:\n",
    "            if self.total_counts >= 10:\n",
    "                print(\"Exiting evaluater\")\n",
    "                self.should_exit = True\n",
    "                sys.exit()\n",
    "            if self.total_counts != last_total:\n",
    "                print(f\"Total Counts: {self.total_counts}\")\n",
    "                last_total = self.total_counts\n",
    "        "
   ]
  },
  {
   "cell_type": "code",
   "execution_count": 7,
   "metadata": {},
   "outputs": [
    {
     "name": "stdout",
     "output_type": "stream",
     "text": [
      "Incrementing\n",
      "Evaluating overness\n",
      "Total Counts: 0\n",
      "Reseting\n",
      "Total Counts: 1\n",
      "Reseting\n",
      "Total Counts: 2\n",
      "Reseting\n",
      "Total Counts: 3\n",
      "Reseting\n",
      "Total Counts: 4\n",
      "Reseting\n",
      "Total Counts: 5\n",
      "Reseting\n",
      "Total Counts: 6\n",
      "Reseting\n",
      "Total Counts: 7\n",
      "Reseting\n",
      "Total Counts: 8\n",
      "Reseting\n",
      "Total Counts: 9\n",
      "Reseting\n",
      "Exiting evaluater\n"
     ]
    },
    {
     "ename": "SystemExit",
     "evalue": "",
     "output_type": "error",
     "traceback": [
      "An exception has occurred, use %tb to see the full traceback.\n",
      "\u001b[0;31mSystemExit\u001b[0m\n"
     ]
    },
    {
     "name": "stdout",
     "output_type": "stream",
     "text": [
      "Exiting incrementer\n"
     ]
    }
   ],
   "source": [
    "dm = DecisionMachine()\n",
    "p = threading.Thread(target=dm.increment, daemon=True)\n",
    "p.start()\n",
    "dm.is_it_over()"
   ]
  },
  {
   "cell_type": "markdown",
   "metadata": {},
   "source": [
    "Multiprocessing threads do not yet support complex objects in shared memory. Python threads are bound to a single core due to python's Global Interpreter Lock. Until this is further developed, a single core will be used. This means that there will be little drawbacks to considering using a raspberry pi zero, instead of the 3 or 4. "
   ]
  }
 ],
 "metadata": {
  "kernelspec": {
   "display_name": "Python 3",
   "language": "python",
   "name": "python3"
  },
  "language_info": {
   "codemirror_mode": {
    "name": "ipython",
    "version": 3
   },
   "file_extension": ".py",
   "mimetype": "text/x-python",
   "name": "python",
   "nbconvert_exporter": "python",
   "pygments_lexer": "ipython3",
   "version": "3.8.3"
  }
 },
 "nbformat": 4,
 "nbformat_minor": 4
}
